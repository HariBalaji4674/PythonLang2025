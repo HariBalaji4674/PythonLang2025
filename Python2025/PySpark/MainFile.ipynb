{
 "cells": [
  {
   "cell_type": "code",
   "execution_count": null,
   "id": "0fa67f46-e2c6-47a2-9083-4a7d672fd0e9",
   "metadata": {},
   "outputs": [],
   "source": [
    "print(\"Peddireddy Hari Vardhan Reddy\")"
   ]
  },
  {
   "cell_type": "code",
   "execution_count": null,
   "id": "a39c5bcb-9e94-417c-b518-a7d59ca4d2e0",
   "metadata": {},
   "outputs": [],
   "source": [
    "2+2\n"
   ]
  },
  {
   "cell_type": "code",
   "execution_count": null,
   "id": "502d0c7d-24cd-4e99-942a-bf95ce37f821",
   "metadata": {},
   "outputs": [],
   "source": [
    "x = \"peddireddY\"\n",
    "x.upper()\n"
   ]
  },
  {
   "cell_type": "code",
   "execution_count": 1,
   "id": "cbfc81ee-6349-4ce7-b6fd-773eaf549d28",
   "metadata": {},
   "outputs": [
    {
     "data": {
      "text/plain": [
       "[0, 1, 4, 9, 16, 25, 36, 49, 64, 81]"
      ]
     },
     "execution_count": 1,
     "metadata": {},
     "output_type": "execute_result"
    }
   ],
   "source": [
    "[num**2 for num in range(10)]\n"
   ]
  },
  {
   "cell_type": "code",
   "execution_count": 2,
   "id": "25b34a52-74f8-451d-94d0-d4676468f908",
   "metadata": {},
   "outputs": [
    {
     "name": "stdout",
     "output_type": "stream",
     "text": [
      "Hello World\n"
     ]
    }
   ],
   "source": [
    "def func2(num):\n",
    "    if num == 10:\n",
    "        print(\"Hello World\")\n",
    "        \n",
    "\n",
    "num = 10\n",
    "func2(num)"
   ]
  },
  {
   "cell_type": "code",
   "execution_count": null,
   "id": "c24ee1c4-f202-4707-ac19-83f2123bc5bc",
   "metadata": {},
   "outputs": [],
   "source": []
  },
  {
   "cell_type": "code",
   "execution_count": null,
   "id": "b728206c-bbb1-489d-b552-3f5d3e222b09",
   "metadata": {},
   "outputs": [],
   "source": []
  }
 ],
 "metadata": {
  "kernelspec": {
   "display_name": "Python [conda env:base] *",
   "language": "python",
   "name": "conda-base-py"
  },
  "language_info": {
   "codemirror_mode": {
    "name": "ipython",
    "version": 3
   },
   "file_extension": ".py",
   "mimetype": "text/x-python",
   "name": "python",
   "nbconvert_exporter": "python",
   "pygments_lexer": "ipython3",
   "version": "3.12.7"
  }
 },
 "nbformat": 4,
 "nbformat_minor": 5
}
