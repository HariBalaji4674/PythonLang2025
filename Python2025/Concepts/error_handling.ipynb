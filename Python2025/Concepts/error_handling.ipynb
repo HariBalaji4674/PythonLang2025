{
 "cells": [
  {
   "cell_type": "code",
   "execution_count": 3,
   "metadata": {},
   "outputs": [
    {
     "name": "stdout",
     "output_type": "stream",
     "text": [
      "10\n"
     ]
    }
   ],
   "source": [
    "a = 10\n",
    "print(a)"
   ]
  },
  {
   "cell_type": "code",
   "execution_count": 5,
   "metadata": {},
   "outputs": [
    {
     "name": "stdout",
     "output_type": "stream",
     "text": [
      "name 'b' is not defined\n"
     ]
    }
   ],
   "source": [
    "try:\n",
    "    a = b\n",
    "    number = 1/0\n",
    "except ZeroDivisionError as ex:\n",
    "    print(ex)\n",
    "except NameError as ne:\n",
    "    print(ne)\n",
    "    \n",
    "    "
   ]
  },
  {
   "cell_type": "code",
   "execution_count": 2,
   "metadata": {},
   "outputs": [
    {
     "name": "stdout",
     "output_type": "stream",
     "text": [
      "The variale has not been declared please double check\n"
     ]
    }
   ],
   "source": [
    "try:\n",
    "    a = b\n",
    "except:\n",
    "    print(\"The variale has not been declared please double check\")"
   ]
  },
  {
   "cell_type": "code",
   "execution_count": 24,
   "metadata": {},
   "outputs": [
    {
     "name": "stdout",
     "output_type": "stream",
     "text": [
      "\n",
      "* \n",
      "* * \n",
      "* * * \n",
      "* * * * \n",
      "* * * * * \n",
      "* * * * * * \n",
      "* * * * * * * \n",
      "* * * * * * * * \n",
      "* * * * * * * * * \n",
      "HI How are you\n",
      "i am good\n",
      "krish is my name\n",
      "Good Morning Dear One\n",
      "\n",
      "\n",
      "The Actual Error is error\n",
      "Finally will execute by default\n"
     ]
    }
   ],
   "source": [
    "try:\n",
    "    for i in range(10):\n",
    "        for j in range(i):\n",
    "            print(\"*\",end=\" \")\n",
    "        print()\n",
    "except TypeError as te:\n",
    "    print(f\"The error is {te}\")\n",
    "    print(\"please change to range level of integers\")\n",
    "\n",
    "try:\n",
    "    with open(\"example.txt\",\"r\") as file:\n",
    "        content = file.read()\n",
    "        print(content)\n",
    "except FileNotFoundError as FE:\n",
    "    print(f\"The error is {FE}\")\n",
    "else:\n",
    "    print(f\"The Actual Error is error\")\n",
    "finally:\n",
    "    print(\"Finally will execute by default\")"
   ]
  },
  {
   "cell_type": "code",
   "execution_count": 26,
   "metadata": {},
   "outputs": [
    {
     "ename": "IndentationError",
     "evalue": "expected an indented block after function definition on line 2 (2618526565.py, line 5)",
     "output_type": "error",
     "traceback": [
      "\u001b[0;36m  Cell \u001b[0;32mIn[26], line 5\u001b[0;36m\u001b[0m\n\u001b[0;31m    mynew()\u001b[0m\n\u001b[0m           ^\u001b[0m\n\u001b[0;31mIndentationError\u001b[0m\u001b[0;31m:\u001b[0m expected an indented block after function definition on line 2\n"
     ]
    }
   ],
   "source": [
    "class mynew:\n",
    "    def myNew():\n",
    "        # pass\n",
    "\n",
    "mynew()"
   ]
  }
 ],
 "metadata": {
  "kernelspec": {
   "display_name": "Python 3",
   "language": "python",
   "name": "python3"
  },
  "language_info": {
   "codemirror_mode": {
    "name": "ipython",
    "version": 3
   },
   "file_extension": ".py",
   "mimetype": "text/x-python",
   "name": "python",
   "nbconvert_exporter": "python",
   "pygments_lexer": "ipython3",
   "version": "3.13.1"
  }
 },
 "nbformat": 4,
 "nbformat_minor": 2
}
